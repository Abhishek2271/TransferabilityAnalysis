{
 "cells": [
  {
   "cell_type": "code",
   "execution_count": null,
   "metadata": {},
   "outputs": [],
   "source": [
    "import numpy as np\n",
    "import cv2\n",
    "import os\n",
    "import save_restore_images\n",
    "import visualize_data\n",
    "from tensorpack.dataflow.dataset.mnist import Mnist \n",
    "import pandas as pd\n",
    "import matplotlib.pyplot as plt\n",
    "from matplotlib import colors\n",
    "from pandas.plotting import table\n",
    "from DataSets.mnist import GetMnist\n",
    "import art as tp\n",
    "print(tp.__version__)"
   ]
  },
   {
   "cell_type": "markdown",
   "metadata": {},
   "source": [
    "# Get transferability"
   ]
  },
  {
   "cell_type": "code",
   "execution_count": null,
   "metadata": {},
   "outputs": [],
   "source": [
    "df = pd.DataFrame(\n",
    "[[0.3046666666666667, 0.335, 0.37366666666666665, 0.38233333333333336, 0.36366666666666664, 0.32633333333333336, 0.39233333333333337], [0.3753333333333333, 0.28833333333333333, 0.327, 0.33066666666666666, 0.32466666666666666, 0.26399999999999996, 0.332], [0.40700000000000003, 0.347, 0.4073333333333333, 0.39633333333333337, 0.3953333333333333, 0.3376666666666667, 0.418], [0.5256666666666666, 0.4263333333333333, 0.47933333333333333, 0.4586666666666666, 0.47766666666666663, 0.433, 0.5020000000000001], [0.521, 0.43933333333333335, 0.4843333333333333, 0.48233333333333334, 0.47700000000000004, 0.427, 0.5056666666666666], [0.5496666666666666, 0.43933333333333335, 0.498, 0.5073333333333334, 0.48633333333333334, 0.43166666666666664, 0.54], [0.5423333333333333, 0.457, 0.5116666666666667, 0.49766666666666665, 0.49733333333333335, 0.4486666666666667, 0.5233333333333333]]\n",
    ")\n",
    "visualize_data.plot_data_points(df)"
   ]
  },
  {
   "cell_type": "markdown",
   "metadata": {},
   "source": [
    "# Get transferability with average"
   ]
  },
  {
   "cell_type": "code",
   "execution_count": null,
   "metadata": {},
   "outputs": [],
   "source": [
    "df = pd.DataFrame(\n",
    "[[0.0, 0.9333333333333335, 0.947, 0.9706666666666667, 0.9796666666666667, 0.9693333333333333, 0.9673333333333333], [0.7896666666666667, 0.017, 0.898, 0.934, 0.9513333333333334, 0.945, 0.9463333333333334], [0.8803333333333333, 0.9393333333333332, 0.068, 0.9516666666666667, 0.9579999999999999, 0.9506666666666667, 0.9579999999999999], [0.908, 0.9373333333333335, 0.9466666666666667, 0.050666666666666665, 0.9776666666666666, 0.9603333333333333, 0.9726666666666667], [0.9516666666666667, 0.943, 0.953, 0.964, 0.08900000000000001, 0.9663333333333334, 0.9716666666666667], [0.9546666666666667, 0.9503333333333334, 0.9583333333333334, 0.9740000000000001, 0.9853333333333333, 0.008666666666666666, 0.9779999999999999], [0.9466666666666667, 0.9423333333333334, 0.9586666666666667, 0.9713333333333334, 0.9790000000000001, 0.9676666666666667, 0.08900000000000001]])\n",
    "d2 = pd.DataFrame(df.mean(axis=\"columns\"))\n",
    "\n",
    "#print(d2)\n",
    "df2 = df.merge(d2, left_index=True, right_index=True)\n",
    "visualize_data.plot_data_points_with_average(df2)"
   ]
  },
  {
   "cell_type": "code",
   "execution_count": null,
   "metadata": {},
   "outputs": [],
   "source": [
    "#HEADER STYLIZED\n",
    "df = pd.DataFrame(\n",
    "   [[0.9053333333333334, 0.9243333333333333, 0.658, 0.385, 0.6483333333333333, 0.8293333333333334, 0.6606666666666666], [0.9303333333333333, 0.93, 0.6383333333333333, 0.3053333333333333, 0.5876666666666667, 0.8573333333333334, 0.5936666666666667], [0.9913333333333334, 0.9963333333333333, 0.9659999999999999, 0.8046666666666668, 0.9209999999999999, 0.9873333333333333, 0.9646666666666667], [0.9873333333333334, 0.996, 0.9573333333333333, 0.8393333333333333, 0.9623333333333334, 0.991, 0.977], [0.9756666666666667, 0.984, 0.8336666666666667, 0.5116666666666667, 0.783, 0.949, 0.8153333333333332], [0.9856666666666666, 0.9826666666666667, 0.8696666666666667, 0.6829999999999999, 0.8516666666666666, 0.9499999999999998, 0.874], [0.9826666666666667, 0.9886666666666666, 0.8953333333333333, 0.606, 0.8586666666666667, 0.9716666666666667, 0.9199999999999999]]\n",
    "\n",
    "     )\n",
    "d2 = pd.DataFrame(df.mean(axis=\"columns\"))\n",
    "\n",
    "#print(d2)\n",
    "df2 = df.merge(d2, left_index=True, right_index=True)\n",
    "visualize_data.plot_data_points_with_average_stylized(df2)"
   ]
  },
  {
   "cell_type": "code",
   "execution_count": null,
   "metadata": {},
   "outputs": [],
   "source": [
    "a = tf.constant([1,2])\n",
    "print(a.shape)"
   ]
  },
  {
   "cell_type": "code",
   "execution_count": null,
   "metadata": {},
   "outputs": [],
   "source": [
    "from decimal import *\n",
    "#decimal types\n",
    "getcontext().prec = 2\n",
    "h = Decimal(1) / Decimal(7)\n",
    "print(type(h))\n",
    "#float types\n",
    "a = 1/7\n",
    "print (type(a))\n",
    "print(2*h)\n",
    "print(2*a)\n",
    "#float types\n",
    "fl = float(\"{0:.4f}\".format(2*a))\n",
    "print(type(fl))"
   ]
  },
  {
   "cell_type": "code",
   "execution_count": null,
   "metadata": {},
   "outputs": [],
   "source": [
    "#data = Mnist(\"test\", dir=r\"C:\\Users\\sab\\Downloads\\AI Testing\\_Tools\\DataSets\\MNIST\\Data\")\n",
    "#save_image(data.images[:10], r\"c:\\tmp\\SaveImages\", False, data.labels)\n",
    "#load_image(r\"C:\\tmp\\SaveImages\\7.png\", True)\n",
    "npz_image = save_restore_images.save_or_load_adversarial_image__npz(\"load\", r\"C:\\Users\\sab\\Documents\\MEGAsync\\MODEL_A_REGULARIZED\\BA\\15_ITT\\transfer_log_run_sources_1\\from-mnist_conv_adv_pre-1,1,32--run-0__filtered-transfer-\\mnist-1,1,32\\mnist_prefiltered_images.npz\")\n",
    "#npz_image = save_or_load_adversarial_image__npz(\"save\", r\"C:\\Users\\sab\\Downloads\\AI Testing\\Source\\Dorefanet\\tensorpack\\FullPrecisionModels\\TrainedImages\\mnist_conv_full_pre.npz\", data.images[:100], data.labels[:100], data.images[:100])\n",
    "#npz_image_source = np.load(r\"C:\\Users\\sab\\Downloads\\AI Testing\\Source\\Dorefanet\\tensorpack\\FullPrecisionModels\\trained_images\\MNIST-FP\\mnist_correct_images.npz\")\n",
    "#image_index_source = npz_image_source[\"image_index\"]\n",
    "#first1500 = image_index_source[:1500]\n",
    "\n",
    "#print(npz_image)\n",
    "print(npz_image.benign_images.shape)\n",
    "print(npz_image.labels)\n",
    "print(npz_image.hasadversarial)\n",
    "#print(npz_image.adversarial_images.shape)\n",
    "print(npz_image.image_index.shape)\n",
    "#print(npz_image.image_index)\n",
    "#print(npz_image.image_index.shape)\n",
    "\n",
    "index =0\n",
    "#a = np.array_equal(npz_image.images[1], data.images[index])\n",
    "#print(a)\n",
    "for i in npz_image:        \n",
    "    a = np.array_equal(i[2], first1500[index])\n",
    "    if (a==False):\n",
    "        print(i[2])\n",
    "    index = index + 1\n",
    "    #print(i[\"benign_images\"].shape)\n",
    "    #print(i[2].shape)\n"
   ]
  },
  {
   "cell_type": "code",
   "execution_count": null,
   "metadata": {},
   "outputs": [],
   "source": [
    "Mnist_Data_Dir = r\"C:\\Users\\sab\\Downloads\\AI Testing\\_Tools\\DataSets\\MNIST\\Data\"\n",
    "#data = Mnist(\"test\", dir=r\"C:\\Users\\sab\\Downloads\\AI Testing\\_Tools\\DataSets\\MNIST\\Data\")\n",
    "#save_image(data.images[:10], r\"c:\\tmp\\SaveImages\", False, data.labels)\n",
    "#load_image(r\"C:\\tmp\\SaveImages\\7.png\", True)\n",
    "npz_image = save_restore_images.save_or_load_image__npz(\"load\", \n",
    "r\"C:\\Users\\sab\\Downloads\\AI Testing\\Source\\Dorefanet\\tensorpack\\FullPrecisionModels\\logs\\trained_images\\FGSM\\MNIST\\MODEL_A_REGULARIZED\\03\\mnist-FP\\mnist_conv_adv_pre-FP--run-0.npz\")\n",
    "data_test = GetMnist('test', Mnist_Data_Dir)\n",
    "#npz_image = save_or_load_adversarial_image__npz(\"save\", r\"C:\\Users\\sab\\Downloads\\AI Testing\\Source\\Dorefanet\\tensorpack\\FullPrecisionModels\\TrainedImages\\mnist_conv_full_pre.npz\", data.images[:100], data.labels[:100], data.images[:100])\n",
    "#npz_image_source = np.load(r\"C:\\Users\\sab\\Downloads\\AI Testing\\Source\\Dorefanet\\tensorpack\\FullPrecisionModels\\trained_images\\MNIST-FP\\mnist_correct_images.npz\")\n",
    "#image_index_source = npz_image_source[\"image_index\"]\n",
    "#first1500 = image_index_source[:1500]\n",
    "#corr_image_index = 0\n",
    "#if(corr_image_index in npz_image.image_index):\n",
    "#    position_image_index = np.where(npz_image.image_index == corr_image_index)    \n",
    "#    ll =  npz_image.images[position_image_index]\n",
    "sel = [0,1]\n",
    "a = npz_image.images[sel]\n",
    "if(a.ndim == 4):\n",
    "    print(\"ww\")\n",
    "print(a.shape)\n",
    "print(\"s\",npz_image.images.shape)\n",
    "print(npz_image.labels.shape)\n",
    "#print(npz_image.adversarial_images.shape)\n",
    "print(\"image.index\", npz_image.image_index)\n",
    "#print(npz_image.image_index)\n",
    "#print(npz_image.image_index.shape)\n",
    "\n",
    "index =0\n",
    "#a = np.array_equal(npz_image.images[1], data.images[index])\n",
    "#print(a)\n",
    "#for i in npz_image:        \n",
    " #   a = np.array_equal(i[2], first1500[index])\n",
    " #   if (a==False):\n",
    " #       print(i[2])\n",
    " #   index = index + 1\n",
    "    #print(i[\"benign_images\"].shape)\n",
    "    #print(i[2].shape)\n",
    "#visualize_data.plot_images(npz_image.images)\n",
    "visualize_data.plot_image(npz_image.images[1])\n",
    "print(npz_image.labels[1])\n",
    "print(npz_image.image_index[1])\n",
    "\n",
    "\n",
    "visualize_data.plot_image(data_test.images[0])\n",
    "print(data_test.labels[0])\n",
    "npz_image.image_index.sort()\n",
    "print(npz_image.image_index[0:10])\n",
    "if(14 in npz_image.image_index):\n",
    "    print(\"there\")\n",
    "else:\n",
    "    print(\"not there\")\n",
    "#import itertools\n",
    "#ins = npz_image.image_index\n",
    "#see if any thing repeats\n",
    "#Y = [(x, len(list(y))) for x, y in itertools.groupby(ins)]\n",
    "#print(Y)"
   ]
  },
  {
   "cell_type": "markdown",
   "metadata": {},
   "source": [
    "## Find specific index on a list given the orignal index on MNIST dataset and print the image"
   ]
  },
  {
   "cell_type": "code",
   "execution_count": null,
   "metadata": {},
   "outputs": [],
   "source": [
    "from DataSets.cifar import Cifar10, get_cifar10_data, getaugmenteddata_with_all_images, _parse_meta\n",
    "Mnist_Data_Dir = r\"C:\\Users\\sab\\Downloads\\AI Testing\\_Tools\\DataSets\\MNIST\\Data\"\n",
    "cifar_10dir = get_cifar10_data(\"test\" ,dir= r\"C:\\Users\\sab\\Downloads\\AI Testing\\_Tools\\DataSets\\CIFAR10\")\n",
    "#npz_image = save_restore_images.save_or_load_image__npz(\"load\", \n",
    "#r\"C:\\Users\\sab\\Downloads\\AI Testing\\Source\\Dorefanet\\tensorpack\\FullPrecisionModels\\logs\\trained_images\\LENET5_A\\MNIST-16,16,32\\mnist_conv_adv_pre-16,16,32.npz\")\n",
    "data_test = GetMnist('test', Mnist_Data_Dir)\n",
    "data_test = getaugmenteddata_with_all_images(cifar_10dir)\n",
    "\n",
    "npz_image = save_restore_images.save_or_load_image__npz(\"load\", \n",
    "r\"C:\\Users\\sab\\Downloads\\AI Testing\\Source\\Dorefanet\\tensorpack\\FullPrecisionModels\\logs\\trained_images\\UAP\\CIFAR\\RESNET_5\\EPS_001_XI_01\\cifar10-FP\\mnist_conv_adv_pre-FP--run-0.npz\")\n",
    "print(npz_image.labels.shape)\n",
    "\n",
    "position_image_index = np.where(npz_image.image_index == 4620)\n",
    "print(\"pos\", position_image_index)\n",
    "print(np.min(data_test.images[0]))\n",
    "visualize_data.plot_image(data_test.images[4620])\n",
    "#visualize_data.plot_image(data_test.images[7839])\n",
    "#print(npz_image.labels)\n",
    "#print(npz_image.image_index)"
   ]
  },
  {
   "cell_type": "code",
   "execution_count": null,
   "metadata": {},
   "outputs": [],
   "source": [
    "npz_image = save_restore_images.save_or_load_image__npz(\"load\", \n",
    "r\"C:\\Users\\sab\\Downloads\\AI Testing\\Source\\Dorefanet\\tensorpack\\FullPrecisionModels\\logs\\trained_images\\UAP\\MNIST\\MODEL_A_REGULARIZED\\Transferability Anal\\EP_01_XI_02\\mnist-FP\\mnist_conv_adv_pre-FP--run-2.npz\")\n",
    "print(npz_image.labels.shape)\n",
    "print(npz_image.images.shape)\n",
    "print(npz_image.image_index.shape)\n",
    "#visualize_data.plot_images(npz_image.images)\n",
    "npz_image2 = save_restore_images.save_or_load_image__npz(\"load\", \n",
    "r\"C:\\Users\\sab\\Documents\\MEGAsync Downloads\\cifar10-2,2,32\\correct_pred_adv_images.npz\")\n",
    "print(npz_image2.images.shape)\n",
    "print(npz_image2.labels.shape)\n",
    "print(npz_image2.image_index.shape)\n",
    "\n",
    "iseq = np.array_equal(npz_image.image_index, npz_image2.image_index)\n",
    "print(iseq)\n",
    "#print(npz_image.images.shape)\n",
    "#print(npz_image.labels)\n",
    "#print(npz_image.image_index[0:100])\n"
   ]
  },
  {
   "cell_type": "code",
   "execution_count": null,
   "metadata": {},
   "outputs": [],
   "source": [
    "visualize_data.plot_image(npz_image.images[168])"
   ]
  },
  {
   "cell_type": "code",
   "execution_count": null,
   "metadata": {},
   "outputs": [],
   "source": [
    "matrix = np.array([[0.9163, 0.9917, 0.9613, 0.9141, 0.9361],\n",
    "[0.9918, 0.9753, 0.95, 0.9244, 0.95594],\n",
    "[0.9979, 0.9938, 0.9323, 0.9114, 0.9647],\n",
    "[0.9979, 0.9918, 0.9613, 0.8385, 0.9516],\n",
    "[0.9979, 0.9938, 0.9546, 0.9192, 0.8987]])\n",
    "#visualize_data.plotTable(df)\n",
    "# generate some example data\n",
    "print(matrix.shape)\n",
    "\n",
    "# plot the matrix as an image with an appropriate colormap\n",
    "plt.imshow(matrix.T, aspect='auto', cmap=\"bwr\")\n",
    "\n",
    "# add the values\n",
    "for (i, j), value in np.ndenumerate(matrix):\n",
    "    plt.text(i, j, \"%.3f\"%value, va='center', ha='center')\n",
    "\n",
    "plt.axis('off')\n",
    "plt.show()"
   ]
  },
  {
   "cell_type": "code",
   "execution_count": null,
   "metadata": {},
   "outputs": [],
   "source": [
    "df = pd.DataFrame([[0.9163, 0.9917, 0.9613, 0.9141, 0.9361],\n",
    "[0.9918, 0.9753, 0.95, 0.9244, 0.95594],\n",
    "[0.9979, 0.9938, 0.9323, 0.9114, 0.9647],\n",
    "[0.9979, 0.9918, 0.9613, 0.8385, 0.9516],\n",
    "[0.9979, 0.9938, 0.9546, 0.9192, 0.8987]])\n",
    "\n",
    "df.columns= [\"float\", \"2\", \"4\", \"8\", \"12\"]\n",
    "df.index = [\"float\", \"2\", \"4\", \"8\", \"12\"]\n",
    "#visualize_data.plotTable(df)\n",
    "# generate some example data\n",
    "def background_gradient(s, m, M, cmap='PuBu', low=0, high=0):\n",
    "    rng = M - m\n",
    "    norm = colors.Normalize(m - (rng * low),\n",
    "                            M + (rng * high))\n",
    "    normed = norm(s.values)\n",
    "    c = [colors.rgb2hex(x) for x in plt.cm.get_cmap(cmap)(normed)]\n",
    "    return ['background-color: %s' % color for color in c]\n",
    "\n",
    "df.style.apply(background_gradient,\n",
    "               cmap='PuBu',\n",
    "               m=df.min().min(),\n",
    "               M=df.max().max(),\n",
    "               low=0,\n",
    "               high=0.2)\n"
   ]
  },
  {
   "cell_type": "code",
   "execution_count": null,
   "metadata": {},
   "outputs": [],
   "source": [
    "Mnist_Data_Dir = r\"C:\\Users\\sab\\Downloads\\AI Testing\\_Tools\\DataSets\\MNIST\\Data\"\n",
    "npz_image = save_restore_images.save_or_load_image__npz(\"load\", r\"C:\\Users\\sab\\Downloads\\AI Testing\\Source\\Dorefanet\\tensorpack\\FullPrecisionModels\\logs\\trained_images\\mnist-FP\\mnist_conv_adv_pre-FP--run-0.npz\")\n",
    "data_test = GetMnist('test', Mnist_Data_Dir)\n",
    "\n",
    "print(npz_image.images.shape)\n",
    "print(npz_image.labels.shape)\n",
    "print(npz_image.image_index.shape)\n",
    "\n",
    "#random_index = np.random.choice(npz_image.image_index, 10, False)\n",
    "\n",
    "#print(np.arange(0, len(data_test))[random_index])\n",
    "#print(random_index)\n",
    "#random_index = [99,1]\n",
    "a = np.array([6, 9, 5, 7, 3, 8])\n",
    "indices = np.array([6, 9, 5])\n",
    "\n",
    "#print(data_test.images[random_index].shape)\n",
    "#print(data_test.labels[random_index])\n",
    "#print(np.take(data_test, random_index))\n",
    "sel = a\n",
    "#visualize_data.plot_image(data_test.images[9793])\n",
    "#visualize_data.plot_image(data_test.images[99])\n",
    "\n",
    "#visualize_data.plot_image(data_test.images[random_index[8]])\n",
    "\n"
   ]
  },
  {
   "cell_type": "code",
   "execution_count": null,
   "metadata": {},
   "outputs": [],
   "source": [
    "\n",
    "a = np.array([6, 9, 5, 7, 3, 8])\n",
    "indices = np.array([6, 9, 5])\n",
    "print(a.shape)\n",
    "print(a[a==indices])"
   ]
  },
  {
   "cell_type": "code",
   "execution_count": null,
   "metadata": {},
   "outputs": [],
   "source": [
    "import tensorflow as tf\n",
    "logits = [0.1,0.2,0.7]\n",
    "a=tf.nn.softmax(logits, name=\"output\")\n",
    "tf.add_to_collection(\"logits\",logits)\n",
    "b = logits\n",
    "with tf.Session() as sess:\n",
    "    print(sess.run(a))\n",
    "    test = tf.get_default_graph().get_tensor_by_name(\"output:0\")\n",
    "    print (test)\n",
    "    print(tf.get_collection(\"logits\")[0])"
   ]
  },
  {
   "cell_type": "code",
   "execution_count": null,
   "metadata": {},
   "outputs": [],
   "source": [
    "Mnist_Data_Dir = r\"C:\\Users\\sab\\Downloads\\AI Testing\\_Tools\\DataSets\\MNIST\\Data\"\n",
    "data_test = GetMnist('test', shuffle=False,dir=Mnist_Data_Dir)\n",
    "index = 0\n",
    "max_val = np.max(data_test.images[5])\n",
    "print(max_val)\n",
    "for img in data_test:\n",
    "    image = img[0]\n",
    "    \n",
    "    min_val = np.min(image)\n",
    "    max_val = np.max(image)\n",
    "    if(min_val != 0):\n",
    "        print(\"found min\")\n",
    "    \n",
    "    if(max_val != 1):\n",
    "        print(\"found max\", index)\n",
    "    index = index + 1\n",
    "    #print(min_val)\n",
    "    #print(max_val)\n",
    "    "
   ]
  },
  {
   "cell_type": "code",
   "execution_count": null,
   "metadata": {},
   "outputs": [],
   "source": [
    "import numpy as np\n",
    "vec = np.array([1,1])\n",
    "print(np.max(abs(vec)))"
   ]
  },
  {
   "cell_type": "code",
   "execution_count": null,
   "metadata": {},
   "outputs": [],
   "source": [
    "import os\n",
    "s = r\"C:\\Users\\sab\\Downloads\\AI Testing\\Source\\Dorefanet\\tensorpack\\FullPrecisionModels\\logs\\trained_images\\FGSM\\MNIST\\MODEL_A_REGULARIZED\\OTHERS\\025\\mnist-FP\\mnist_prefiltered_images.npz\"\n",
    "\n",
    "print(os.path.basename(s))\n"
   ]
  },
  {
   "cell_type": "code",
   "execution_count": null,
   "metadata": {},
   "outputs": [],
   "source": [
    "import numpy as np\n",
    "data =[0,1]\n",
    "data2 = [1,1]\n",
    "a =  np.array(data) !=  np.array(data2)\n",
    "print (a)\n",
    "print(np.mean(a))"
   ]
  },
  {
   "cell_type": "markdown",
   "metadata": {},
   "source": [
    "## GET FGSM perturbation"
   ]
  },
  {
   "cell_type": "code",
   "execution_count": null,
   "metadata": {},
   "outputs": [],
   "source": [
    "Mnist_Data_Dir = r\"C:\\Users\\sab\\Downloads\\AI Testing\\_Tools\\DataSets\\MNIST\\Data\"\n",
    "#data = Mnist(\"test\", dir=r\"C:\\Users\\sab\\Downloads\\AI Testing\\_Tools\\DataSets\\MNIST\\Data\")\n",
    "#save_image(data.images[:10], r\"c:\\tmp\\SaveImages\", False, data.labels)\n",
    "#load_image(r\"C:\\tmp\\SaveImages\\7.png\", True)\n",
    "npz_image = save_restore_images.save_or_load_image__npz(\"load\", \n",
    "r\"C:\\Users\\sab\\Downloads\\AI Testing\\Source\\Dorefanet\\tensorpack\\FullPrecisionModels\\logs\\trained_images\\FGSM\\MNIST\\MODEL_A_REGULARIZED\\03\\mnist-FP\\mnist_conv_adv_pre-FP--run-0.npz\")\n",
    "data_test = GetMnist('test', dir= Mnist_Data_Dir)\n",
    "print(npz_image.images.shape)\n",
    "print(npz_image.image_index[0])\n",
    "visualize_data.plot_image(npz_image.images[0])\n",
    "#visualize_data.plot_image(data_test.images[6923])\n",
    "total_linf = np.max(abs(npz_image.images[0] - data_test.images[6923]))   \n",
    "print(total_linf)\n",
    "perturbation = (npz_image.images[0] - data_test.images[6923])\n",
    "#print(perturbation.shape)\n",
    "print(perturbation)\n",
    "visualize_data.plot_image((data_test.images[6923] + perturbation))"
   ]
  },
  {
   "cell_type": "code",
   "execution_count": 2,
   "metadata": {},
   "outputs": [
    {
     "data": {
      "text/plain": [
       "1"
      ]
     },
     "execution_count": 2,
     "metadata": {},
     "output_type": "execute_result"
    }
   ],
   "source": [
    "round(0.6)"
   ]
  }
 ],
 "metadata": {
  "interpreter": {
   "hash": "04635d289a519a1410467dd0afb0db42f9184808881ca68b2eb5a687a20a5a94"
  },
  "kernelspec": {
   "display_name": "Python 3.6.5 64-bit",
   "name": "python3"
  },
  "language_info": {
   "codemirror_mode": {
    "name": "ipython",
    "version": 3
   },
   "file_extension": ".py",
   "mimetype": "text/x-python",
   "name": "python",
   "nbconvert_exporter": "python",
   "pygments_lexer": "ipython3",
   "version": "3.6.5"
  },
  "orig_nbformat": 4
 },
 "nbformat": 4,
 "nbformat_minor": 2
}
