{
 "cells": [
  {
   "cell_type": "code",
   "execution_count": 3,
   "source": [
    "import pickle\r\n",
    "import numpy as np\r\n",
    "import matplotlib.pyplot as plt\r\n",
    "from matplotlib import image\r\n",
    "#from tensorpack.dataflow import dataset\r\n",
    "import ./save_restore_images\r\n",
    "from cifar import Cifar10, get_cifar10_data, getaugmenteddata_with_all_images"
   ],
   "outputs": [
    {
     "output_type": "error",
     "ename": "ModuleNotFoundError",
     "evalue": "No module named 'save_restore_images'",
     "traceback": [
      "\u001b[1;31m---------------------------------------------------------------------------\u001b[0m",
      "\u001b[1;31mModuleNotFoundError\u001b[0m                       Traceback (most recent call last)",
      "\u001b[1;32m<ipython-input-3-07d1b68420de>\u001b[0m in \u001b[0;36m<module>\u001b[1;34m\u001b[0m\n\u001b[0;32m      4\u001b[0m \u001b[1;32mfrom\u001b[0m \u001b[0mmatplotlib\u001b[0m \u001b[1;32mimport\u001b[0m \u001b[0mimage\u001b[0m\u001b[1;33m\u001b[0m\u001b[0m\n\u001b[0;32m      5\u001b[0m \u001b[1;31m#from tensorpack.dataflow import dataset\u001b[0m\u001b[1;33m\u001b[0m\u001b[1;33m\u001b[0m\u001b[0m\n\u001b[1;32m----> 6\u001b[1;33m \u001b[1;32mimport\u001b[0m \u001b[0msave_restore_images\u001b[0m\u001b[1;33m\u001b[0m\u001b[0m\n\u001b[0m\u001b[0;32m      7\u001b[0m \u001b[1;32mfrom\u001b[0m \u001b[0mcifar\u001b[0m \u001b[1;32mimport\u001b[0m \u001b[0mCifar10\u001b[0m\u001b[1;33m,\u001b[0m \u001b[0mget_cifar10_data\u001b[0m\u001b[1;33m,\u001b[0m \u001b[0mgetaugmenteddata_with_all_images\u001b[0m\u001b[1;33m\u001b[0m\u001b[0m\n",
      "\u001b[1;31mModuleNotFoundError\u001b[0m: No module named 'save_restore_images'"
     ]
    }
   ],
   "metadata": {}
  },
  {
   "cell_type": "code",
   "execution_count": null,
   "source": [
    "#import visualize_data   \r\n",
    "datafile = r\"C:\\Users\\sab\\Downloads\\AI Testing\\_Tools\\DataSets\\CIFAR10\\cifar-10-batches-py\\data_batch_1\"\r\n",
    "def unpickle(datafile):    \r\n",
    "    with open(datafile, 'rb') as fo:\r\n",
    "        dict = pickle.load(fo, encoding='bytes')\r\n",
    "    return dict\r\n",
    "dictd = unpickle(datafile)\r\n",
    "#print(dictd)\r\n",
    "img = dictd[b\"data\"][0].reshape(3, 32, 32)\r\n",
    "img = np.transpose(img, [1, 2, 0])\r\n",
    "print(img.shape)\r\n",
    "\r\n",
    "def plot_image(data):\r\n",
    "    #fig = plt.figure(figsize=(15, 7))\r\n",
    "    plt.title(\"Adversial examples\")\r\n",
    "    plt.imshow(data, interpolation='nearest')\r\n",
    "    plt.show() \r\n",
    "\r\n",
    "def plot_images(data):\r\n",
    "    # plot the images: each image is 28x28 pixels\r\n",
    "    # set up the figure\r\n",
    "    fig = plt.figure(figsize=(15, 7))\r\n",
    "    fig.subplots_adjust(left=0, right=1, bottom=0, top=1, hspace=0.05, wspace=0.05)\r\n",
    "    #for now, only show top 50\r\n",
    "    if(len(data)<=50):\r\n",
    "        total_number = len(data)\r\n",
    "    else:\r\n",
    "        total_number = 50\r\n",
    "    for i in range(total_number):\r\n",
    "        ax = fig.add_subplot(5, 10, i + 1, xticks=[], yticks=[])\r\n",
    "        ax.imshow(data[i].reshape((30,30,3)), interpolation='nearest')\r\n",
    "        #ax.imshow(data[i].reshape((28,28)),cmap=plt.cm.gray_r, interpolation='nearest')\r\n",
    "    plt.show()\r\n"
   ],
   "outputs": [],
   "metadata": {}
  },
  {
   "cell_type": "code",
   "execution_count": null,
   "source": [
    "arr = [\r\n",
    "    [[1,2], [1,2]],\r\n",
    "    [[1,2], [1,2]]\r\n",
    "]\r\n",
    "\r\n",
    "arr = [\r\n",
    "[[59, 62, 63], [43, 46, 45], [50, 48, 43], [68, 54, 42], [98, 73, 52], [119, 91, 63], [139, 107, 75], [145, 110, 80], [149, 117, 89], [149, 120, 93], [131, 103, 77], [125, 99, 76], [142, 115, 91], [144, 112, 86], [137, 105, 79], [129, 97, 71], [137, 106, 79], [134, 106, 76], [124, 97, 64], [139, 113, 78], [139, 112, 75], [133, 105, 69], [136, 105, 74], [139, 108, 77], [152, 120, 89], [163, 131, 100], [168, 136, 108], [159, 129, 102], [158, 130, 104], [158, 132, 108], [152, 125, 102], [148, 124, 103]]]\r\n",
    "arr = np.array(arr)\r\n",
    "print(arr.shape)"
   ],
   "outputs": [],
   "metadata": {}
  },
  {
   "cell_type": "code",
   "execution_count": null,
   "source": [
    "\r\n",
    "#ds = Cifar10(\"test\", shuffle=False, dir= r\"C:\\Users\\sab\\Downloads\\AI Testing\\_Tools\\DataSets\\CIFAR10\")\r\n",
    "ds = get_cifar10_data(\"test\" ,dir= r\"C:\\Users\\sab\\Downloads\\AI Testing\\_Tools\\DataSets\\CIFAR10\")\r\n",
    "\r\n",
    "def plot_image(data):\r\n",
    "    #fig = plt.figure(figsize=(15, 7))\r\n",
    "    plt.title(\"Adversial examples\")\r\n",
    "    plt.imshow(data, interpolation='nearest')\r\n",
    "    plt.show() \r\n",
    "\r\n",
    "def plot_images(data):\r\n",
    "    # plot the images: each image is 28x28 pixels\r\n",
    "    # set up the figure\r\n",
    "    fig = plt.figure(figsize=(15, 7))\r\n",
    "    fig.subplots_adjust(left=0, right=1, bottom=0, top=1, hspace=0.05, wspace=0.05)\r\n",
    "    #for now, only show top 50\r\n",
    "    if(len(data)<=50):\r\n",
    "        total_number = len(data)\r\n",
    "    else:\r\n",
    "        total_number = 50\r\n",
    "    for i in range(total_number):\r\n",
    "        ax = fig.add_subplot(5, 10, i + 1, xticks=[], yticks=[])\r\n",
    "        ax.imshow(data[i].reshape((30,30,3)), interpolation='nearest')\r\n",
    "        #ax.imshow(data[i].reshape((28,28)),cmap=plt.cm.gray_r, interpolation='nearest')\r\n",
    "    plt.show()\r\n",
    "images = []\r\n",
    "labels = []\r\n",
    "for img in ds:\r\n",
    "    #plot_image(img[0])\r\n",
    "    images.append(img[0])\r\n",
    "    labels.append(img[1])\r\n",
    "\r\n",
    "images = np.array(images)\r\n",
    "labels = np.array(labels)\r\n",
    "iseqal = np.array_equal(labels, ds.labels)\r\n",
    "print(\"both are equal?\", iseqal)\r\n",
    "print(images.shape)\r\n",
    "print(\"min_pixel value\", np.min(images[10]))\r\n",
    "print(\"max_pixel value\",np.max(images[10]))\r\n",
    "#np.set_printoptions(threshold=sys.maxsize)\r\n",
    "#print(images[0].tolist())\r\n",
    "#print(images[0])\r\n",
    "#print(images)\r\n",
    "#plot_images(images)"
   ],
   "outputs": [],
   "metadata": {}
  },
  {
   "cell_type": "code",
   "execution_count": null,
   "source": [
    "#ds = Cifar10(\"test\", shuffle=False, dir= r\"C:\\Users\\sab\\Downloads\\AI Testing\\_Tools\\DataSets\\CIFAR10\")\r\n",
    "ds = get_cifar10_data(\"test\" ,dir= r\"C:\\Users\\sab\\Downloads\\AI Testing\\_Tools\\DataSets\\CIFAR10\")\r\n",
    "\r\n",
    "data_set = getaugmenteddata_with_all_images(ds)\r\n",
    "print(data_set.images.shape)\r\n",
    "print(data_set.labels.shape)\r\n",
    "\r\n",
    "images = []\r\n",
    "labels = []\r\n",
    "for img in data_set:\r\n",
    "    #plot_image(img[0])\r\n",
    "    images.append(img[0])\r\n",
    "    labels.append(img[1])\r\n",
    "isequal = np.array_equal(labels, data_set.labels)\r\n",
    "print(isequal)\r\n",
    "isequal_img = np.array_equal(images, data_set.images)\r\n",
    "print(isequal_img)"
   ],
   "outputs": [],
   "metadata": {}
  },
  {
   "cell_type": "code",
   "execution_count": 3,
   "source": [
    "cifar_Data_Dir = r\"C:\\Users\\sab\\Downloads\\AI Testing\\_Tools\\DataSets\\CIFAR10\"\r\n",
    "\r\n",
    "npz_image = save_restore_images.save_or_load_image__npz(\"load\", \r\n",
    "r\"C:\\Users\\sab\\Downloads\\AI Testing\\Source\\Dorefanet\\tensorpack\\FullPrecisionModels\\logs\\inference_log\\cifar10-FP\\correct_pred_images.npz\")\r\n",
    "data_test = get_cifar10_data('test', cifar_Data_Dir)\r\n",
    "\r\n",
    "print(npz_image.images.shape)\r\n",
    "print(npz_image.labels.shape)\r\n",
    "print(npz_image.image_index.shape)\r\n"
   ],
   "outputs": [
    {
     "output_type": "error",
     "ename": "NameError",
     "evalue": "name 'save_restore_images' is not defined",
     "traceback": [
      "\u001b[1;31m---------------------------------------------------------------------------\u001b[0m",
      "\u001b[1;31mNameError\u001b[0m                                 Traceback (most recent call last)",
      "\u001b[1;32m<ipython-input-3-6dd1a5dfcde5>\u001b[0m in \u001b[0;36m<module>\u001b[1;34m\u001b[0m\n\u001b[0;32m      1\u001b[0m \u001b[0mcifar_Data_Dir\u001b[0m \u001b[1;33m=\u001b[0m \u001b[1;34mr\"C:\\Users\\sab\\Downloads\\AI Testing\\_Tools\\DataSets\\CIFAR10\"\u001b[0m\u001b[1;33m\u001b[0m\u001b[0m\n\u001b[0;32m      2\u001b[0m \u001b[1;33m\u001b[0m\u001b[0m\n\u001b[1;32m----> 3\u001b[1;33m npz_image = save_restore_images.save_or_load_image__npz(\"load\", \n\u001b[0m\u001b[0;32m      4\u001b[0m r\"C:\\Users\\sab\\Downloads\\AI Testing\\Source\\Dorefanet\\tensorpack\\FullPrecisionModels\\logs\\inference_log\\cifar10-FP\\correct_pred_images.npz\")\n\u001b[0;32m      5\u001b[0m \u001b[0mdata_test\u001b[0m \u001b[1;33m=\u001b[0m \u001b[0mget_cifar10_data\u001b[0m\u001b[1;33m(\u001b[0m\u001b[1;34m'test'\u001b[0m\u001b[1;33m,\u001b[0m \u001b[0mcifar_Data_Dir\u001b[0m\u001b[1;33m)\u001b[0m\u001b[1;33m\u001b[0m\u001b[0m\n",
      "\u001b[1;31mNameError\u001b[0m: name 'save_restore_images' is not defined"
     ]
    }
   ],
   "metadata": {}
  }
 ],
 "metadata": {
  "orig_nbformat": 4,
  "language_info": {
   "name": "python",
   "version": "3.6.5",
   "mimetype": "text/x-python",
   "codemirror_mode": {
    "name": "ipython",
    "version": 3
   },
   "pygments_lexer": "ipython3",
   "nbconvert_exporter": "python",
   "file_extension": ".py"
  },
  "kernelspec": {
   "name": "python3",
   "display_name": "Python 3.6.5 64-bit"
  },
  "interpreter": {
   "hash": "04635d289a519a1410467dd0afb0db42f9184808881ca68b2eb5a687a20a5a94"
  }
 },
 "nbformat": 4,
 "nbformat_minor": 2
}