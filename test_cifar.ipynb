{
 "cells": [
  {
   "cell_type": "code",
   "execution_count": 1,
   "metadata": {},
   "outputs": [
    {
     "name": "stderr",
     "output_type": "stream",
     "text": [
      "C:\\Python37\\lib\\site-packages\\tensorflow\\python\\framework\\dtypes.py:526: FutureWarning: Passing (type, 1) or '1type' as a synonym of type is deprecated; in a future version of numpy, it will be understood as (type, (1,)) / '(1,)type'.\n",
      "  _np_qint8 = np.dtype([(\"qint8\", np.int8, 1)])\n",
      "C:\\Python37\\lib\\site-packages\\tensorflow\\python\\framework\\dtypes.py:527: FutureWarning: Passing (type, 1) or '1type' as a synonym of type is deprecated; in a future version of numpy, it will be understood as (type, (1,)) / '(1,)type'.\n",
      "  _np_quint8 = np.dtype([(\"quint8\", np.uint8, 1)])\n",
      "C:\\Python37\\lib\\site-packages\\tensorflow\\python\\framework\\dtypes.py:528: FutureWarning: Passing (type, 1) or '1type' as a synonym of type is deprecated; in a future version of numpy, it will be understood as (type, (1,)) / '(1,)type'.\n",
      "  _np_qint16 = np.dtype([(\"qint16\", np.int16, 1)])\n",
      "C:\\Python37\\lib\\site-packages\\tensorflow\\python\\framework\\dtypes.py:529: FutureWarning: Passing (type, 1) or '1type' as a synonym of type is deprecated; in a future version of numpy, it will be understood as (type, (1,)) / '(1,)type'.\n",
      "  _np_quint16 = np.dtype([(\"quint16\", np.uint16, 1)])\n",
      "C:\\Python37\\lib\\site-packages\\tensorflow\\python\\framework\\dtypes.py:530: FutureWarning: Passing (type, 1) or '1type' as a synonym of type is deprecated; in a future version of numpy, it will be understood as (type, (1,)) / '(1,)type'.\n",
      "  _np_qint32 = np.dtype([(\"qint32\", np.int32, 1)])\n",
      "C:\\Python37\\lib\\site-packages\\tensorflow\\python\\framework\\dtypes.py:535: FutureWarning: Passing (type, 1) or '1type' as a synonym of type is deprecated; in a future version of numpy, it will be understood as (type, (1,)) / '(1,)type'.\n",
      "  np_resource = np.dtype([(\"resource\", np.ubyte, 1)])\n"
     ]
    }
   ],
   "source": [
    "import pickle\n",
    "import numpy as np\n",
    "import matplotlib.pyplot as plt\n",
    "from matplotlib import image\n",
    "#from tensorpack.dataflow import dataset\n",
    "import tensorflow as tf\n",
    "from tensorpack import *\n",
    "import save_restore_images\n",
    "import visualize_data\n",
    "from DataSets.cifar import Cifar10, get_cifar10_data, getaugmenteddata_with_all_images, _parse_meta"
   ]
  },
  {
   "cell_type": "markdown",
   "metadata": {},
   "source": [
    "## Read straight from the source data and see unpickled versions\n"
   ]
  },
  {
   "cell_type": "code",
   "execution_count": null,
   "metadata": {},
   "outputs": [],
   "source": [
    "#import visualize_data   \n",
    "datafile = r\"C:\\Users\\sab\\Downloads\\AI Testing\\_Tools\\DataSets\\CIFAR10\\cifar-10-batches-py\\data_batch_1\"\n",
    "def unpickle(datafile):    \n",
    "    with open(datafile, 'rb') as fo:\n",
    "        dict = pickle.load(fo, encoding='bytes')\n",
    "    return dict\n",
    "dictd = unpickle(datafile)\n",
    "#print(dictd)\n",
    "img = dictd[b\"data\"][0].reshape(3, 32, 32)\n",
    "img = np.transpose(img, [1, 2, 0])\n",
    "print(img.shape)\n",
    "label = dictd[b\"labels\"][0]\n",
    "print(label)\n",
    "\n",
    "def plot_image(data):\n",
    "    #fig = plt.figure(figsize=(15, 7))\n",
    "    plt.title(\"Adversial examples\")\n",
    "    plt.imshow(data, interpolation='nearest')\n",
    "    plt.show() \n",
    "\n",
    "def plot_images(data):\n",
    "    # plot the images: each image is 28x28 pixels\n",
    "    # set up the figure\n",
    "    fig = plt.figure(figsize=(15, 7))\n",
    "    fig.subplots_adjust(left=0, right=1, bottom=0, top=1, hspace=0.05, wspace=0.05)\n",
    "    #for now, only show top 50\n",
    "    if(len(data)<=50):\n",
    "        total_number = len(data)\n",
    "    else:\n",
    "        total_number = 50\n",
    "    for i in range(total_number):\n",
    "        ax = fig.add_subplot(5, 10, i + 1, xticks=[], yticks=[])\n",
    "        ax.imshow(data[i].reshape((32,32,3)), interpolation='nearest')\n",
    "        #ax.imshow(data[i].reshape((28,28)),cmap=plt.cm.gray_r, interpolation='nearest')\n",
    "    plt.show()\n"
   ]
  },
  {
   "cell_type": "code",
   "execution_count": null,
   "metadata": {},
   "outputs": [],
   "source": [
    "arr = [\n",
    "    [[1,2], [1,2]],\n",
    "    [[1,2], [1,2]]\n",
    "]\n",
    "\n",
    "arr = [\n",
    "[[59, 62, 63], [43, 46, 45], [50, 48, 43], [68, 54, 42], [98, 73, 52], [119, 91, 63], [139, 107, 75], [145, 110, 80], [149, 117, 89], [149, 120, 93], [131, 103, 77], [125, 99, 76], [142, 115, 91], [144, 112, 86], [137, 105, 79], [129, 97, 71], [137, 106, 79], [134, 106, 76], [124, 97, 64], [139, 113, 78], [139, 112, 75], [133, 105, 69], [136, 105, 74], [139, 108, 77], [152, 120, 89], [163, 131, 100], [168, 136, 108], [159, 129, 102], [158, 130, 104], [158, 132, 108], [152, 125, 102], [148, 124, 103]]]\n",
    "arr = np.array(arr)\n",
    "print(arr.shape)"
   ]
  },
  {
   "cell_type": "markdown",
   "metadata": {},
   "source": [
    "## Read using the custom function in the app"
   ]
  },
  {
   "cell_type": "code",
   "execution_count": 7,
   "metadata": {},
   "outputs": [
    {
     "name": "stdout",
     "output_type": "stream",
     "text": [
      "shuffle is set to:  None\n",
      "\u001b[32m[0222 18:13:53 @cifar.py:39]\u001b[0m Found cifar10 datas in C:\\Users\\sab\\Downloads\\AI Testing\\_Tools\\DataSets\\CIFAR10.\n",
      "(128, 32, 32, 3)\n"
     ]
    },
    {
     "ename": "AttributeError",
     "evalue": "'Cifar10' object has no attribute 'labels'",
     "output_type": "error",
     "traceback": [
      "\u001b[1;31m---------------------------------------------------------------------------\u001b[0m",
      "\u001b[1;31mAttributeError\u001b[0m                            Traceback (most recent call last)",
      "\u001b[1;32m<ipython-input-7-8c9ee075c61c>\u001b[0m in \u001b[0;36m<module>\u001b[1;34m\u001b[0m\n\u001b[0;32m     36\u001b[0m \u001b[0mimages\u001b[0m \u001b[1;33m=\u001b[0m \u001b[0mnp\u001b[0m\u001b[1;33m.\u001b[0m\u001b[0marray\u001b[0m\u001b[1;33m(\u001b[0m\u001b[0mimages\u001b[0m\u001b[1;33m)\u001b[0m\u001b[1;33m\u001b[0m\u001b[0m\n\u001b[0;32m     37\u001b[0m \u001b[0mlabels\u001b[0m \u001b[1;33m=\u001b[0m \u001b[0mnp\u001b[0m\u001b[1;33m.\u001b[0m\u001b[0marray\u001b[0m\u001b[1;33m(\u001b[0m\u001b[0mlabels\u001b[0m\u001b[1;33m)\u001b[0m\u001b[1;33m\u001b[0m\u001b[0m\n\u001b[1;32m---> 38\u001b[1;33m \u001b[0miseqal\u001b[0m \u001b[1;33m=\u001b[0m \u001b[0mnp\u001b[0m\u001b[1;33m.\u001b[0m\u001b[0marray_equal\u001b[0m\u001b[1;33m(\u001b[0m\u001b[0mlabels\u001b[0m\u001b[1;33m,\u001b[0m \u001b[0mds\u001b[0m\u001b[1;33m.\u001b[0m\u001b[0mlabels\u001b[0m\u001b[1;33m)\u001b[0m\u001b[1;33m\u001b[0m\u001b[0m\n\u001b[0m\u001b[0;32m     39\u001b[0m \u001b[0mprint\u001b[0m\u001b[1;33m(\u001b[0m\u001b[1;34m\"both are equal?\"\u001b[0m\u001b[1;33m,\u001b[0m \u001b[0miseqal\u001b[0m\u001b[1;33m)\u001b[0m\u001b[1;33m\u001b[0m\u001b[0m\n\u001b[0;32m     40\u001b[0m \u001b[0mprint\u001b[0m\u001b[1;33m(\u001b[0m\u001b[0mimages\u001b[0m\u001b[1;33m.\u001b[0m\u001b[0mshape\u001b[0m\u001b[1;33m)\u001b[0m\u001b[1;33m\u001b[0m\u001b[0m\n",
      "\u001b[1;31mAttributeError\u001b[0m: 'Cifar10' object has no attribute 'labels'"
     ]
    }
   ],
   "source": [
    "\n",
    "#ds = Cifar10(\"test\", shuffle=False, dir= r\"C:\\Users\\sab\\Downloads\\AI Testing\\_Tools\\DataSets\\CIFAR10\")\n",
    "ds = get_cifar10_data(\"test\" ,dir= r\"C:\\Users\\sab\\Downloads\\AI Testing\\_Tools\\DataSets\\CIFAR10\")\n",
    "data_train = BatchData(ds, 128, remainder=True)\n",
    "for i in data_train:\n",
    "    print(i[0].shape)\n",
    "    break\n",
    "\n",
    "def plot_image(data):\n",
    "    #fig = plt.figure(figsize=(15, 7))\n",
    "    plt.title(\"Adversial examples\")\n",
    "    plt.imshow(data, interpolation='nearest')\n",
    "    plt.show() \n",
    "\n",
    "def plot_images(data):\n",
    "    # plot the images: each image is 28x28 pixels\n",
    "    # set up the figure\n",
    "    fig = plt.figure(figsize=(15, 7))\n",
    "    fig.subplots_adjust(left=0, right=1, bottom=0, top=1, hspace=0.05, wspace=0.05)\n",
    "    #for now, only show top 50\n",
    "    if(len(data)<=50):\n",
    "        total_number = len(data)\n",
    "    else:\n",
    "        total_number = 50\n",
    "    for i in range(total_number):\n",
    "        ax = fig.add_subplot(5, 10, i + 1, xticks=[], yticks=[])\n",
    "        ax.imshow(data[i].reshape((32,32,3)), interpolation='nearest')\n",
    "        #ax.imshow(data[i].reshape((28,28)),cmap=plt.cm.gray_r, interpolation='nearest')\n",
    "    plt.show()\n",
    "images = []\n",
    "labels = []\n",
    "for img in ds:\n",
    "    #plot_image(img[0])\n",
    "    images.append(img[0])\n",
    "    labels.append(img[1])\n",
    "\n",
    "images = np.array(images)\n",
    "labels = np.array(labels)\n",
    "iseqal = np.array_equal(labels, ds.labels)\n",
    "print(\"both are equal?\", iseqal)\n",
    "print(images.shape)\n",
    "print(\"min_pixel value\", np.min(images[10]))\n",
    "print(\"max_pixel value\",np.max(images[10]))\n",
    "#np.set_printoptions(threshold=sys.maxsize)\n",
    "#print(images[0].tolist())\n",
    "#print(images[0])\n",
    "#print(images)\n",
    "#plot_images(images)"
   ]
  },
  {
   "cell_type": "markdown",
   "metadata": {},
   "source": [
    "## check if getaugmenteddata_with_all_images() is working"
   ]
  },
  {
   "cell_type": "code",
   "execution_count": null,
   "metadata": {},
   "outputs": [],
   "source": [
    "#ds = Cifar10(\"test\", shuffle=False, dir= r\"C:\\Users\\sab\\Downloads\\AI Testing\\_Tools\\DataSets\\CIFAR10\")\n",
    "ds = get_cifar10_data(\"test\",dir= r\"C:\\Users\\sab\\Downloads\\AI Testing\\_Tools\\DataSets\\CIFAR10\")\n",
    "data_set = getaugmenteddata_with_all_images(ds)\n",
    "\n",
    "print(data_set.images.shape)\n",
    "print(data_set.labels.shape)\n",
    "\n",
    "\n",
    "images = []\n",
    "labels = []\n",
    "count = 0\n",
    "for img in ds:\n",
    "    #plot_image(img[0])\n",
    "    images.append(img[0])\n",
    "    labels.append(img[1])\n",
    "    count = count+1\n",
    "    if(count>9999):\n",
    "        break\n",
    "images = np.array(images)\n",
    "labels  = np.array(labels)\n",
    "images = np.array(images)\n",
    "labels= np.array(labels)\n",
    "print(images.shape)\n",
    "print(labels.shape)\n",
    "print(np.array_equal(images, data_set.images))\n",
    "print(np.array_equal(labels, data_set.labels))\n",
    "\n",
    "def plot_images(data):\n",
    "    # plot the images: each image is 28x28 pixels\n",
    "    # set up the figure\n",
    "    fig = plt.figure(figsize=(15, 7))\n",
    "    fig.subplots_adjust(left=0, right=1, bottom=0, top=1, hspace=0.05, wspace=0.05)\n",
    "    #for now, only show top 50\n",
    "    if(len(data)<=50):\n",
    "        total_number = len(data)\n",
    "    else:\n",
    "        total_number = 50\n",
    "    for i in range(total_number):\n",
    "        ax = fig.add_subplot(5, 10, i + 1, xticks=[], yticks=[])\n",
    "        ax.imshow(data[i].reshape((32,32,3)), interpolation='nearest')\n",
    "        #ax.imshow(data[i].reshape((28,28)),cmap=plt.cm.gray_r, interpolation='nearest')\n",
    "    plt.show()\n",
    "\n",
    "plot_images(data_set.images)"
   ]
  },
  {
   "cell_type": "markdown",
   "metadata": {},
   "source": [
    "## General tests"
   ]
  },
  {
   "cell_type": "code",
   "execution_count": null,
   "metadata": {},
   "outputs": [],
   "source": [
    "cifar_Data_Dir = r\"C:\\Users\\sab\\Downloads\\AI Testing\\_Tools\\DataSets\\CIFAR10\"\n",
    "meta_file = r\"C:\\Users\\sab\\Downloads\\AI Testing\\_Tools\\DataSets\\CIFAR10\\cifar-10-batches-py\\batches.meta\"\n",
    "npz_image = save_restore_images.save_or_load_image__npz(\"load\", \n",
    "r\"C:\\Users\\sab\\Downloads\\AI Testing\\Source\\Dorefanet\\tensorpack\\FullPrecisionModels\\logs\\inference_log\\cifar10-1,1,32_batch_1000\\incorrect_pred_images.npz\")\n",
    "data_test = get_cifar10_data('test', cifar_Data_Dir)\n",
    "data_set = getaugmenteddata_with_all_images(data_test)\n",
    "\n",
    "\n",
    "#npz_image_org = save_restore_images.save_or_load_image__npz(\"load\", \n",
    "#r\"C:\\Users\\sab\\Downloads\\AI Testing\\Source\\Dorefanet\\tensorpack\\FullPrecisionModels\\logs\\trained_images\\cifar10-FP\\correct_pred_images.npz\")\n",
    "\n",
    "\n",
    "print(npz_image.images.shape)\n",
    "print(npz_image.labels.shape)\n",
    "print(npz_image.image_index)\n",
    "\n",
    "#print(npz_image_org.images.shape)\n",
    "#print(npz_image_org.labels.shape)\n",
    "#print(npz_image_org.image_index.shape)\n",
    "print(\"the adv img index\", np.where(npz_image.image_index == 9812))\n",
    "\n",
    "with open(meta_file, 'rb') as f:\n",
    "    obj = pickle.load(f)\n",
    "    print(obj['label_names'])\n",
    "\n",
    "#visualize_data.plot_image(npz_image_org.images[73])\n",
    "#print(npz_image_org.labels[73])\n",
    "\n",
    "visualize_data.plot_image(npz_image.images[7920])\n",
    "print(npz_image.labels[7920])\n",
    "print(npz_image.image_index[7920])\n",
    "\n",
    "print(data_set.images.shape)\n",
    "visualize_data.plot_image(data_set.images[9812])\n",
    "print(data_set.labels[9812])\n",
    "\n",
    "#print(np.array_equal(npz_image_org.images[7303], data_set.images[8080]))\n",
    "#check if all prefiltered images were in the  3000 adv images produced\n",
    "#npz_image_1 = save_restore_images.save_or_load_image__npz(\"load\", \n",
    "#r\"C:\\Users\\sab\\Downloads\\AI Testing\\Source\\Dorefanet\\tensorpack\\FullPrecisionModels\\logs\\trained_images\\cifar10-FP\\mnist_conv_adv_pre-FP--run-0.npz\")\n",
    "#print(npz_image_1.images.shape)\n",
    "#count =0\n",
    "#for index in npz_image.image_index:\n",
    "#    if(index in npz_image_1.image_index):\n",
    "#        count = count +1\n",
    "    \n",
    "#print (\"count\", count)\n",
    "\n",
    "\n"
   ]
  },
  {
   "cell_type": "markdown",
   "metadata": {},
   "source": [
    "## iter tests"
   ]
  },
  {
   "cell_type": "code",
   "execution_count": null,
   "metadata": {},
   "outputs": [],
   "source": [
    "class verify_iter():\n",
    "    def func(self, str):\n",
    "        print(\"this function is called\",  str)\n",
    "\n",
    "    def __iter__(self):\n",
    "        self.func(\"a\")\n",
    "        for i in range(5):\n",
    "            yield [1,1]\n",
    "\n",
    "a  = verify_iter()\n",
    "for i in a:\n",
    "    print(\"call\")"
   ]
  },
  {
   "cell_type": "code",
   "execution_count": null,
   "metadata": {},
   "outputs": [],
   "source": [
    "t = tf.constant([[1, 2, 3], [4, 5, 6]])\n",
    "paddings = tf.constant([[1, 1,], [2, 2]])\n",
    "# 'constant_values' is 0.\n",
    "# rank of 't' is 2.\n",
    "tf.pad(t, paddings, \"CONSTANT\")"
   ]
  },
  {
   "cell_type": "code",
   "execution_count": null,
   "metadata": {},
   "outputs": [],
   "source": [
    "npz_image1 = save_restore_images.save_or_load_image__npz(\"load\", \n",
    "r\"C:\\Users\\sab\\Downloads\\AI Testing\\Source\\Dorefanet\\tensorpack\\FullPrecisionModels\\logs\\transfer_log\\from-mnist_conv_adv_pre-8,8,32--run-0-transfer-\\cifar10-8,8,32\\correct_pred_images.npz\")\n",
    "npz_image2 = save_restore_images.save_or_load_image__npz(\"load\", \n",
    "r\"C:\\Users\\sab\\Downloads\\cifar10-8,8,32\\cifar10-8,8,32\\correct_pred_images.npz\")\n",
    "print(npz_image1.images.shape)\n",
    "print(npz_image2.images.shape)\n",
    "print(np.array_equal( npz_image2.image_index, npz_image1.image_index))\n",
    "print(np.array_equal( npz_image2.image_index, npz_image1.image_index))"
   ]
  },
  {
   "cell_type": "code",
   "execution_count": null,
   "metadata": {},
   "outputs": [],
   "source": [
    "npz_image1 = np.load(\n",
    "r\"C:\\Users\\sab\\Downloads\\AI Testing\\Source\\Dorefanet\\tensorpack\\FullPrecisionModels\\logs\\train_log\\cifar10-FP\\DumpTensor-2.npz\", allow_pickle=True)\n",
    "print(npz_image1[\"regula\"])"
   ]
  },
  {
   "cell_type": "code",
   "execution_count": null,
   "metadata": {},
   "outputs": [],
   "source": [
    "def test():\n",
    "    for i in range(2):\n",
    "        print(\"condition\")    \n",
    "    else:\n",
    "        print(\"no condition\")\n",
    "\n",
    "test()"
   ]
  }
 ],
 "metadata": {
  "interpreter": {
   "hash": "04635d289a519a1410467dd0afb0db42f9184808881ca68b2eb5a687a20a5a94"
  },
  "kernelspec": {
   "display_name": "Python 3.6.5 64-bit",
   "name": "python3"
  },
  "language_info": {
   "codemirror_mode": {
    "name": "ipython",
    "version": 3
   },
   "file_extension": ".py",
   "mimetype": "text/x-python",
   "name": "python",
   "nbconvert_exporter": "python",
   "pygments_lexer": "ipython3",
   "version": "3.6.5"
  },
  "orig_nbformat": 4
 },
 "nbformat": 4,
 "nbformat_minor": 2
}
